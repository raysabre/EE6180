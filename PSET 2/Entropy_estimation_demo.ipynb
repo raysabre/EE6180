{
 "cells": [
  {
   "cell_type": "code",
   "execution_count": 1,
   "metadata": {
    "collapsed": true
   },
   "outputs": [],
   "source": [
    "import numpy as np\n",
    "import matplotlib.pyplot as plt\n",
    "from est_entro import est_entro_JVHW, est_entro_MLE\n",
    "%matplotlib inline\n",
    "\n",
    "def entropy_true(p):\n",
    "    \"\"\"computes Shannon entropy H(p) in bits for the input discrete distribution.\n",
    "\n",
    "    This function returns a scalar entropy when the input distribution p is a\n",
    "    vector of probability masses, or returns in a row vector the columnwise\n",
    "    entropies of the input probability matrix p.\n",
    "    \"\"\"\n",
    "    validate_dist(p)\n",
    "    return -np.log2(p ** p).sum(axis=0)\n",
    "\n",
    "def validate_dist(p):\n",
    "    if np.imag(p).any() or np.isinf(p).any() or np.isnan(p).any() or (p < 0).any() or (p > 1).any():\n",
    "        raise ValueError('The probability elements must be real numbers between 0 and 1.')\n",
    "\n",
    "    eps = np.finfo(np.double).eps\n",
    "    if (np.abs(p.sum(axis=0) - 1) > np.sqrt(eps)).any():\n",
    "        raise ValueError('Sum of the probability elements must equal 1.')\n",
    "\n",
    "def randsmpl(p, m, n):\n",
    "    validate_dist(p)\n",
    "\n",
    "    edges = np.r_[0, p.cumsum()]\n",
    "    eps = np.finfo(np.double).eps\n",
    "    if np.abs(edges[-1] - 1) > np.sqrt(eps):\n",
    "        edges = edges / edges[-1]\n",
    "    edges[-1] = 1 + eps\n",
    "\n",
    "    return np.digitize(np.random.rand(m, n), edges)"
   ]
  },
  {
   "cell_type": "code",
   "execution_count": 2,
   "metadata": {},
   "outputs": [
    {
     "name": "stdout",
     "output_type": "stream",
     "text": [
      "S = 100, n = 22\n",
      "S = 194, n = 37\n",
      "S = 373, n = 63\n",
      "S = 720, n = 110\n",
      "S = 1390, n = 193\n",
      "S = 2683, n = 340\n",
      "S = 5180, n = 606\n",
      "S = 10000, n = 1086\n",
      "S = 19307, n = 1957\n",
      "S = 37276, n = 3542\n",
      "S = 71969, n = 6436\n",
      "S = 138950, n = 11734\n",
      "S = 268270, n = 21463\n",
      "S = 517948, n = 39365\n",
      "S = 1000000, n = 72383\n"
     ]
    },
    {
     "data": {
      "image/png": "[encoded data removed]",
      "text/plain": [
       "<Figure size 432x288 with 1 Axes>"
      ]
     },
     "metadata": {},
     "output_type": "display_data"
    }
   ],
   "source": [
    "C = 1\n",
    "num = 15\n",
    "mc_times = 50  # Total number of Monte-Carlo trials for each alphabet size\n",
    "record_S = np.ceil(np.logspace(2, 6, num))\n",
    "record_n = np.ceil(C*record_S/np.log(record_S))\n",
    "\n",
    "true_S = np.zeros(num)\n",
    "JVHW_err = np.zeros(num)\n",
    "MLE_err = np.zeros(num)\n",
    "\n",
    "twonum = np.random.rand(2, 1)\n",
    "for i in range(num):\n",
    "    S = record_S[i]\n",
    "    n = record_n[i]\n",
    "    print(\"S = {0}, n = {1}\".format(int(S), int(n)))\n",
    "\n",
    "    dist = np.random.beta(twonum[0], twonum[1], int(S))\n",
    "    dist /= dist.sum()\n",
    "\n",
    "    true_S[i] = entropy_true(dist)\n",
    "    samp = randsmpl(dist, int(n), mc_times)\n",
    "\n",
    "    record_JVHW = est_entro_JVHW(samp)\n",
    "    record_MLE = est_entro_MLE(samp)\n",
    "\n",
    "    JVHW_err[i] = np.mean(np.abs(record_JVHW - true_S[i]))\n",
    "    MLE_err[i] = np.mean(np.abs(record_MLE - true_S[i]))\n",
    "\n",
    "plt.plot(record_S / record_n, JVHW_err, 'b-s', linewidth=2, markerfacecolor='b')\n",
    "plt.plot(record_S / record_n, MLE_err, 'r-.o', linewidth=2, markerfacecolor='r')\n",
    "plt.legend(['JVHW', 'MLE'], loc='upper left')\n",
    "plt.xlabel('S/n')\n",
    "plt.ylabel('Mean Absolute Error')\n",
    "plt.title('Entropy Estimation')\n",
    "plt.xlim(4, 14.5)\n",
    "plt.show()"
   ]
  }
 ],
 "metadata": {
  "kernelspec": {
   "display_name": "Python 3",
   "language": "python",
   "name": "python3"
  },
  "language_info": {
   "codemirror_mode": {
    "name": "ipython",
    "version": 3
   },
   "file_extension": ".py",
   "mimetype": "text/x-python",
   "name": "python",
   "nbconvert_exporter": "python",
   "pygments_lexer": "ipython3",
   "version": "3.6.3"
  }
 },
 "nbformat": 4,
 "nbformat_minor": 1
}
