{
 "cells": [
  {
   "cell_type": "markdown",
   "metadata": {},
   "source": [
    "## Importing Libraries"
   ]
  },
  {
   "cell_type": "code",
   "execution_count": 3,
   "metadata": {},
   "outputs": [],
   "source": [
    "import numpy as np\n",
    "import pandas as pd\n",
    "import math\n",
    "import heapq\n",
    "import matplotlib.pyplot as plt\n",
    "import networkx as nx\n",
    "from collections import defaultdict\n",
    "from est_MI import est_MI_JVHW, est_MI_MLE\n",
    "from sklearn import preprocessing\n",
    "from graphviz import Graph"
   ]
  },
  {
   "cell_type": "markdown",
   "metadata": {},
   "source": [
    "### Adding graphviz package to PATH"
   ]
  },
  {
   "cell_type": "code",
   "execution_count": 61,
   "metadata": {
    "collapsed": true
   },
   "outputs": [],
   "source": [
    "import os\n",
    "os.environ[\"PATH\"] += os.pathsep + 'C:/Program Files (x86)/Graphviz2.38/bin/'"
   ]
  },
  {
   "cell_type": "markdown",
   "metadata": {},
   "source": [
    "## Loading Dataset"
   ]
  },
  {
   "cell_type": "code",
   "execution_count": 4,
   "metadata": {
    "collapsed": true
   },
   "outputs": [],
   "source": [
    "df=pd.read_csv(\"alarm10k.csv\")"
   ]
  },
  {
   "cell_type": "code",
   "execution_count": 5,
   "metadata": {},
   "outputs": [
    {
     "data": {
      "text/html": [
       "<div>\n",
       "<style>\n",
       "    .dataframe thead tr:only-child th {\n",
       "        text-align: right;\n",
       "    }\n",
       "\n",
       "    .dataframe thead th {\n",
       "        text-align: left;\n",
       "    }\n",
       "\n",
       "    .dataframe tbody tr th {\n",
       "        vertical-align: top;\n",
       "    }\n",
       "</style>\n",
       "<table border=\"1\" class=\"dataframe\">\n",
       "  <thead>\n",
       "    <tr style=\"text-align: right;\">\n",
       "      <th></th>\n",
       "      <th>HISTORY</th>\n",
       "      <th>CVP</th>\n",
       "      <th>PCWP</th>\n",
       "      <th>HYPOVOLEMIA</th>\n",
       "      <th>LVEDVOLUME</th>\n",
       "      <th>LVFAILURE</th>\n",
       "      <th>STROKEVOLUME</th>\n",
       "      <th>ERRLOWOUTPUT</th>\n",
       "      <th>HRBP</th>\n",
       "      <th>HREKG</th>\n",
       "      <th>...</th>\n",
       "      <th>MINVOLSET</th>\n",
       "      <th>VENTMACH</th>\n",
       "      <th>VENTTUBE</th>\n",
       "      <th>VENTLUNG</th>\n",
       "      <th>VENTALV</th>\n",
       "      <th>ARTCO2</th>\n",
       "      <th>CATECHOL</th>\n",
       "      <th>HR</th>\n",
       "      <th>CO</th>\n",
       "      <th>BP</th>\n",
       "    </tr>\n",
       "  </thead>\n",
       "  <tbody>\n",
       "    <tr>\n",
       "      <th>0</th>\n",
       "      <td>False</td>\n",
       "      <td>NORMAL</td>\n",
       "      <td>NORMAL</td>\n",
       "      <td>False</td>\n",
       "      <td>NORMAL</td>\n",
       "      <td>False</td>\n",
       "      <td>NORMAL</td>\n",
       "      <td>False</td>\n",
       "      <td>HIGH</td>\n",
       "      <td>HIGH</td>\n",
       "      <td>...</td>\n",
       "      <td>NORMAL</td>\n",
       "      <td>ZERO</td>\n",
       "      <td>ZERO</td>\n",
       "      <td>LOW</td>\n",
       "      <td>HIGH</td>\n",
       "      <td>LOW</td>\n",
       "      <td>HIGH</td>\n",
       "      <td>HIGH</td>\n",
       "      <td>HIGH</td>\n",
       "      <td>HIGH</td>\n",
       "    </tr>\n",
       "    <tr>\n",
       "      <th>1</th>\n",
       "      <td>False</td>\n",
       "      <td>NORMAL</td>\n",
       "      <td>NORMAL</td>\n",
       "      <td>False</td>\n",
       "      <td>NORMAL</td>\n",
       "      <td>False</td>\n",
       "      <td>LOW</td>\n",
       "      <td>False</td>\n",
       "      <td>HIGH</td>\n",
       "      <td>HIGH</td>\n",
       "      <td>...</td>\n",
       "      <td>HIGH</td>\n",
       "      <td>HIGH</td>\n",
       "      <td>ZERO</td>\n",
       "      <td>ZERO</td>\n",
       "      <td>ZERO</td>\n",
       "      <td>HIGH</td>\n",
       "      <td>HIGH</td>\n",
       "      <td>HIGH</td>\n",
       "      <td>LOW</td>\n",
       "      <td>LOW</td>\n",
       "    </tr>\n",
       "    <tr>\n",
       "      <th>2</th>\n",
       "      <td>False</td>\n",
       "      <td>NORMAL</td>\n",
       "      <td>NORMAL</td>\n",
       "      <td>False</td>\n",
       "      <td>NORMAL</td>\n",
       "      <td>False</td>\n",
       "      <td>NORMAL</td>\n",
       "      <td>False</td>\n",
       "      <td>NORMAL</td>\n",
       "      <td>HIGH</td>\n",
       "      <td>...</td>\n",
       "      <td>HIGH</td>\n",
       "      <td>HIGH</td>\n",
       "      <td>HIGH</td>\n",
       "      <td>LOW</td>\n",
       "      <td>HIGH</td>\n",
       "      <td>LOW</td>\n",
       "      <td>NORMAL</td>\n",
       "      <td>LOW</td>\n",
       "      <td>LOW</td>\n",
       "      <td>NORMAL</td>\n",
       "    </tr>\n",
       "    <tr>\n",
       "      <th>3</th>\n",
       "      <td>False</td>\n",
       "      <td>NORMAL</td>\n",
       "      <td>NORMAL</td>\n",
       "      <td>False</td>\n",
       "      <td>NORMAL</td>\n",
       "      <td>False</td>\n",
       "      <td>NORMAL</td>\n",
       "      <td>False</td>\n",
       "      <td>HIGH</td>\n",
       "      <td>HIGH</td>\n",
       "      <td>...</td>\n",
       "      <td>NORMAL</td>\n",
       "      <td>NORMAL</td>\n",
       "      <td>LOW</td>\n",
       "      <td>ZERO</td>\n",
       "      <td>ZERO</td>\n",
       "      <td>HIGH</td>\n",
       "      <td>HIGH</td>\n",
       "      <td>HIGH</td>\n",
       "      <td>HIGH</td>\n",
       "      <td>HIGH</td>\n",
       "    </tr>\n",
       "    <tr>\n",
       "      <th>4</th>\n",
       "      <td>False</td>\n",
       "      <td>NORMAL</td>\n",
       "      <td>NORMAL</td>\n",
       "      <td>False</td>\n",
       "      <td>NORMAL</td>\n",
       "      <td>False</td>\n",
       "      <td>NORMAL</td>\n",
       "      <td>False</td>\n",
       "      <td>HIGH</td>\n",
       "      <td>HIGH</td>\n",
       "      <td>...</td>\n",
       "      <td>NORMAL</td>\n",
       "      <td>NORMAL</td>\n",
       "      <td>LOW</td>\n",
       "      <td>ZERO</td>\n",
       "      <td>LOW</td>\n",
       "      <td>HIGH</td>\n",
       "      <td>HIGH</td>\n",
       "      <td>HIGH</td>\n",
       "      <td>HIGH</td>\n",
       "      <td>HIGH</td>\n",
       "    </tr>\n",
       "  </tbody>\n",
       "</table>\n",
       "<p>5 rows × 37 columns</p>\n",
       "</div>"
      ],
      "text/plain": [
       "   HISTORY     CVP    PCWP  HYPOVOLEMIA LVEDVOLUME  LVFAILURE STROKEVOLUME  \\\n",
       "0    False  NORMAL  NORMAL        False     NORMAL      False       NORMAL   \n",
       "1    False  NORMAL  NORMAL        False     NORMAL      False          LOW   \n",
       "2    False  NORMAL  NORMAL        False     NORMAL      False       NORMAL   \n",
       "3    False  NORMAL  NORMAL        False     NORMAL      False       NORMAL   \n",
       "4    False  NORMAL  NORMAL        False     NORMAL      False       NORMAL   \n",
       "\n",
       "   ERRLOWOUTPUT    HRBP HREKG   ...    MINVOLSET VENTMACH  VENTTUBE  VENTLUNG  \\\n",
       "0         False    HIGH  HIGH   ...       NORMAL     ZERO      ZERO       LOW   \n",
       "1         False    HIGH  HIGH   ...         HIGH     HIGH      ZERO      ZERO   \n",
       "2         False  NORMAL  HIGH   ...         HIGH     HIGH      HIGH       LOW   \n",
       "3         False    HIGH  HIGH   ...       NORMAL   NORMAL       LOW      ZERO   \n",
       "4         False    HIGH  HIGH   ...       NORMAL   NORMAL       LOW      ZERO   \n",
       "\n",
       "  VENTALV ARTCO2  CATECHOL    HR    CO      BP  \n",
       "0    HIGH    LOW      HIGH  HIGH  HIGH    HIGH  \n",
       "1    ZERO   HIGH      HIGH  HIGH   LOW     LOW  \n",
       "2    HIGH    LOW    NORMAL   LOW   LOW  NORMAL  \n",
       "3    ZERO   HIGH      HIGH  HIGH  HIGH    HIGH  \n",
       "4     LOW   HIGH      HIGH  HIGH  HIGH    HIGH  \n",
       "\n",
       "[5 rows x 37 columns]"
      ]
     },
     "execution_count": 5,
     "metadata": {},
     "output_type": "execute_result"
    }
   ],
   "source": [
    "df.head()"
   ]
  },
  {
   "cell_type": "code",
   "execution_count": 6,
   "metadata": {},
   "outputs": [
    {
     "data": {
      "text/plain": [
       "(10000, 37)"
      ]
     },
     "execution_count": 6,
     "metadata": {},
     "output_type": "execute_result"
    }
   ],
   "source": [
    "df.shape"
   ]
  },
  {
   "cell_type": "markdown",
   "metadata": {},
   "source": [
    "## Checking for NaNs"
   ]
  },
  {
   "cell_type": "code",
   "execution_count": 7,
   "metadata": {},
   "outputs": [
    {
     "data": {
      "text/plain": [
       "False"
      ]
     },
     "execution_count": 7,
     "metadata": {},
     "output_type": "execute_result"
    }
   ],
   "source": [
    "df.isnull().values.any()"
   ]
  },
  {
   "cell_type": "markdown",
   "metadata": {},
   "source": [
    "### Labeling the columns for easier lookup"
   ]
  },
  {
   "cell_type": "code",
   "execution_count": 8,
   "metadata": {
    "collapsed": true
   },
   "outputs": [],
   "source": [
    "labels={}\n",
    "count=0\n",
    "for i in df:\n",
    "    labels[count]=i\n",
    "    count+=1"
   ]
  },
  {
   "cell_type": "markdown",
   "metadata": {},
   "source": [
    "Opening the dataset as a file to make it easier for iterating through the rows"
   ]
  },
  {
   "cell_type": "code",
   "execution_count": 9,
   "metadata": {
    "collapsed": true
   },
   "outputs": [],
   "source": [
    "f = open(\"alarm10k.csv\", \"r\")\n",
    "joints = {}\n",
    "marg = {}\n",
    "\n",
    "feature_length = df.shape[1]\n",
    "data_size = df.shape[0]\n",
    "\n",
    "for i in range(feature_length):\n",
    "    marg[i] = defaultdict(float)\n",
    "\n",
    "    for j in range(i+1, feature_length):\n",
    "        joints[(i, j)] = defaultdict(float)\n",
    "\n",
    "count_aggr = 0"
   ]
  },
  {
   "cell_type": "markdown",
   "metadata": {},
   "source": [
    "## Computing Probabilites"
   ]
  },
  {
   "cell_type": "code",
   "execution_count": 10,
   "metadata": {
    "collapsed": true
   },
   "outputs": [],
   "source": [
    "flag=0\n",
    "for line in f:\n",
    "    if(flag==0):\n",
    "        flag=1\n",
    "        continue\n",
    "    n = line.strip().split(\",\")\n",
    "    #print(n)\n",
    "    count_aggr += 1\n",
    "    for i in range(feature_length):\n",
    "        marg[i][n[i]] += 1./data_size\n",
    "\n",
    "        for j in range(i+1, feature_length):\n",
    "            joints[(i,j)][(n[i], n[j])] += 1./data_size"
   ]
  },
  {
   "cell_type": "markdown",
   "metadata": {},
   "source": [
    "## Calculating Mutual info using plugin estimator"
   ]
  },
  {
   "cell_type": "code",
   "execution_count": 11,
   "metadata": {
    "collapsed": true
   },
   "outputs": [],
   "source": [
    "def cal_mutual_info(joints, marg, feature_length):\n",
    "  \n",
    "    graph={}\n",
    "    weights={}\n",
    "    for i in range(feature_length):\n",
    "        graph[str(i)]=[]\n",
    "        for j in range(i+1, feature_length):\n",
    "            graph[str(i)].append(j)\n",
    "            I = 0\n",
    "            for x_u, p_x_u in marg[i].items():\n",
    "                for x_v, p_x_v in marg[j].items():\n",
    "                    if (x_u, x_v) in joints[(i, j)]:\n",
    "                        p_x_uv = joints[(i, j)][(x_u, x_v)]\n",
    "                        I += p_x_uv * (math.log(p_x_uv, 2) - math.log(p_x_u, 2) - math.log(p_x_v, 2))\n",
    "            weights[(i,j)]=-I\n",
    "    return graph,weights"
   ]
  },
  {
   "cell_type": "markdown",
   "metadata": {},
   "source": [
    "## Prims algorithm to build MST"
   ]
  },
  {
   "cell_type": "code",
   "execution_count": 36,
   "metadata": {
    "collapsed": true
   },
   "outputs": [],
   "source": [
    "def prim(graph,feature_length,weights):\n",
    "    visited=[]\n",
    "    nbr=[]\n",
    "    dist=[]\n",
    "    for i in range(feature_length):\n",
    "        visited.append(False)\n",
    "        nbr.append(-1)\n",
    "        dist.append(42069)\n",
    "    te=[]\n",
    "    visited[0]=True\n",
    "    for j in graph['0']:\n",
    "        nbr[j]=0\n",
    "        dist[j]=weights[(0,j)]\n",
    "    for i in range(1,feature_length):\n",
    "        distance={}\n",
    "        for u in range(feature_length):\n",
    "            if(visited[u]==False):\n",
    "                distance[u]=dist[u]\n",
    "        k=min(distance,key=distance.get)\n",
    "        visited[k]=True\n",
    "        te.append((k,nbr[k]))\n",
    "        for v in graph[str(k)]:\n",
    "            if(visited[v]==False):\n",
    "                if(dist[v]>weights[(k,v)]):\n",
    "                    dist[v]=weights[(k,v)]\n",
    "                    nbr[v]=k\n",
    "    return te,dist"
   ]
  },
  {
   "cell_type": "code",
   "execution_count": 13,
   "metadata": {
    "collapsed": true
   },
   "outputs": [],
   "source": [
    "graph,weights=cal_mutual_info(joints,marg,feature_length)"
   ]
  },
  {
   "cell_type": "code",
   "execution_count": 37,
   "metadata": {
    "collapsed": true
   },
   "outputs": [],
   "source": [
    "te,dist=prim(graph,feature_length,weights)"
   ]
  },
  {
   "cell_type": "code",
   "execution_count": 62,
   "metadata": {},
   "outputs": [],
   "source": [
    "plotgraph(te,'MST_plugin')"
   ]
  },
  {
   "cell_type": "markdown",
   "metadata": {},
   "source": [
    "## Graphs the tree and saves the figures."
   ]
  },
  {
   "cell_type": "code",
   "execution_count": 59,
   "metadata": {
    "collapsed": true
   },
   "outputs": [],
   "source": [
    "def plotgraph(te,fname):\n",
    "    count=0\n",
    "    edges2=te.copy()\n",
    "    for i in edges2:\n",
    "        edges2[count]=list(edges2[count])\n",
    "        edges2[count].append(labels[i[0]])\n",
    "        edges2[count].append(labels[i[1]])\n",
    "        edges2[count].pop(0)\n",
    "        edges2[count].pop(0)\n",
    "        count+=1\n",
    "    g = Graph('G', filename=fname, engine='sfdp')\n",
    "    for i in edges2:\n",
    "        g.edge(i[0],i[1])\n",
    "    g.view()"
   ]
  },
  {
   "cell_type": "markdown",
   "metadata": {},
   "source": [
    "## Calcuting Mutual Info using JVHW estimator"
   ]
  },
  {
   "cell_type": "code",
   "execution_count": 16,
   "metadata": {},
   "outputs": [],
   "source": [
    "def jvhw_mutual_info(df):\n",
    "    le = preprocessing.LabelEncoder()\n",
    "    for i in df:\n",
    "        df[i]=le.fit_transform(df[i])\n",
    "    jvhw={}\n",
    "    graph={}\n",
    "    for i in range(feature_length):\n",
    "        graph[str(i)]=[]\n",
    "        for j in range(i+1, feature_length):\n",
    "            graph[str(i)].append(j)\n",
    "            jvhw[(i,j)]=-est_MI_JVHW(df[labels[i]],df[labels[j]])\n",
    "    return graph,jvhw"
   ]
  },
  {
   "cell_type": "code",
   "execution_count": 17,
   "metadata": {},
   "outputs": [],
   "source": [
    "jvhw_graph,jvhw_info=jvhw_mutual_info(df)"
   ]
  },
  {
   "cell_type": "code",
   "execution_count": 38,
   "metadata": {},
   "outputs": [],
   "source": [
    "jvhw_te,jvhw_dist=prim(jvhw_graph,feature_length,jvhw_info)"
   ]
  },
  {
   "cell_type": "code",
   "execution_count": 63,
   "metadata": {
    "collapsed": true
   },
   "outputs": [],
   "source": [
    "plotgraph(jvhw_te,'MST_JVHW')"
   ]
  },
  {
   "cell_type": "markdown",
   "metadata": {},
   "source": [
    "## Comparing plugin estimator and JVWH estimator"
   ]
  },
  {
   "cell_type": "code",
   "execution_count": 56,
   "metadata": {},
   "outputs": [],
   "source": [
    "def l1norm(jvhw,weights):\n",
    "    l1norm=0\n",
    "    length=len(jvhw)\n",
    "    for i in range(length):\n",
    "        if(i==0):\n",
    "            continue\n",
    "        l1norm+=np.abs(jvhw[i][0]-weights[i])\n",
    "    print(l1norm)\n",
    "    return l1norm"
   ]
  },
  {
   "cell_type": "code",
   "execution_count": 57,
   "metadata": {},
   "outputs": [
    {
     "name": "stdout",
     "output_type": "stream",
     "text": [
      "0.007700252060885924\n"
     ]
    }
   ],
   "source": [
    "l1norm=l1norm(jvhw_dist,dist)"
   ]
  },
  {
   "cell_type": "markdown",
   "metadata": {},
   "source": [
    "The L1 norm between mutual information matrices are very low, which implies both are almost equal"
   ]
  }
 ],
 "metadata": {
  "kernelspec": {
   "display_name": "Python 3",
   "language": "python",
   "name": "python3"
  }
 },
 "nbformat": 4,
 "nbformat_minor": 2
}
